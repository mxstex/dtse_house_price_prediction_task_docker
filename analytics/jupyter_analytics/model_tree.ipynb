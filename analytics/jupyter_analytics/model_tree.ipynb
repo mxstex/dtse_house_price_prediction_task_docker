{
 "cells": [
  {
   "cell_type": "code",
   "execution_count": null,
   "id": "2a1f7cd6-e63a-4f67-89a7-dba40d5fc4d4",
   "metadata": {},
   "outputs": [],
   "source": [
    "import pandas as pd\n",
    "from sklearn.model_selection import train_test_split\n",
    "from sklearn.ensemble import RandomForestRegressor\n",
    "from sklearn.metrics import mean_absolute_error\n",
    "\n",
    "# Constants\n",
    "RANDOM_STATE = 100\n",
    "input_data_path = \"housing.csv\"\n",
    "\n",
    "# Load the data\n",
    "df = pd.read_csv(input_data_path)\n",
    "\n",
    "# Ensure all columns are lowercase for consistency\n",
    "df.columns = df.columns.str.lower()\n",
    "\n",
    "# List of columns to convert to numeric\n",
    "numeric_columns = ['median_age', 'rooms', 'bedrooms', 'pop', 'households', 'median_income', 'median_house_value']\n",
    "for column in numeric_columns:\n",
    "    if column in df.columns:\n",
    "        df[column] = pd.to_numeric(df[column], errors='coerce')\n",
    "\n",
    "# Drop rows with missing values\n",
    "df = df.dropna()\n",
    "\n",
    "# Check if target column exists\n",
    "if 'median_house_value' not in df.columns:\n",
    "    raise KeyError(\"The column 'median_house_value' is missing from the dataset!\")\n",
    "\n",
    "# Encode categorical variables\n",
    "categorical_columns = [col for col in df.columns if df[col].dtype == 'object']\n",
    "df = pd.get_dummies(df, columns=categorical_columns, drop_first=True)\n",
    "\n",
    "# Prepare features and target\n",
    "y = df[\"median_house_value\"].values\n",
    "df_features = df.drop([\"median_house_value\"], axis=1)\n",
    "\n",
    "# Split into train and test sets\n",
    "X_train, X_test, y_train, y_test = train_test_split(\n",
    "    df_features, y, test_size=0.2, random_state=RANDOM_STATE\n",
    ")\n",
    "\n",
    "# Train the model\n",
    "regr = RandomForestRegressor(max_depth=12, random_state=RANDOM_STATE)\n",
    "regr.fit(X_train, y_train)\n",
    "\n",
    "# Evaluate the model\n",
    "y_pred = regr.predict(X_test)\n",
    "mae = mean_absolute_error(y_test, y_pred)\n",
    "print(f\"Mean Absolute Error: {mae}\")\n",
    "\n",
    "\n",
    "# Train the model\n",
    "regr = RandomForestRegressor(max_depth=12, random_state=RANDOM_STATE)\n",
    "regr.fit(X_train, y_train)\n",
    "\n",
    "# Evaluate the model\n",
    "y_pred = regr.predict(X_test)\n",
    "mae = mean_absolute_error(y_test, y_pred)\n",
    "print(f\"Mean Absolute Error: {mae}\")\n",
    "\n",
    "model = joblib.load(\"model.joblib\")\n",
    "\n",
    "Y = model.predict(X_train)\n",
    "print(Y)"
   ]
  },
  {
   "cell_type": "code",
   "execution_count": null,
   "id": "0c7797dc-6614-468c-921e-a4aa9fe80092",
   "metadata": {},
   "outputs": [],
   "source": [
    "def predict(X, model):\n",
    "    Y = model.predict(X)\n",
    "    return Y"
   ]
  },
  {
   "cell_type": "code",
   "execution_count": null,
   "id": "d27b1562-1e1e-4e3d-a2f0-59401f6de480",
   "metadata": {},
   "outputs": [],
   "source": [
    "def save_model(model, filename):\n",
    "    with open(filename, \"wb\"):\n",
    "        joblib.dump(model, filename, compress=3)"
   ]
  },
  {
   "cell_type": "code",
   "execution_count": null,
   "id": "ce543b96-bf72-4402-b334-270cc8fc805c",
   "metadata": {},
   "outputs": [],
   "source": [
    "def load_model(filename):\n",
    "    model = joblib.load(filename)\n",
    "    return model"
   ]
  },
  {
   "cell_type": "code",
   "execution_count": null,
   "id": "6f990faa-40f4-40d1-81fe-dba20a240998",
   "metadata": {},
   "outputs": [],
   "source": [
    "if __name__ == \"__main__\":\n",
    "    logging.info(\"Preparing the data...\")\n",
    "    X_train, X_test, y_train, y_test = prepare_data(TRAIN_DATA)\n",
    "\n",
    "    # the model was already trained before\n",
    "    # logging.info('Training the model...')\n",
    "    # regr = train(TRAIN_DATA)\n",
    "\n",
    "    # the model was already saved before into file 'model.joblib'\n",
    "    # logging.info('Exporting the model...')\n",
    "    # save_model(regr, MODEL_NAME)\n",
    "\n",
    "    logging.info(\"Loading the model...\")\n",
    "    model = load_model(MODEL_NAME)\n",
    "\n",
    "    logging.info(\"Calculating train dataset predictions...\")\n",
    "    y_pred_train = predict(X_train, model)\n",
    "    logging.info(\"Calculating test dataset predictions...\")\n",
    "    y_pred_test = predict(X_test, model)\n",
    "\n",
    "    # evaluate model\n",
    "    logging.info(\"Evaluating the model...\")\n",
    "    train_error = mean_absolute_error(y_train, y_pred_train)\n",
    "    test_error = mean_absolute_error(y_test, y_pred_test)\n",
    "\n",
    "    logging.info(\"First 5 predictions:\")\n",
    "    logging.info(f\"\\n{X_test.head()}\")\n",
    "    logging.info(y_pred_test[:5])\n",
    "    logging.info(f\"Train error: {train_error}\")\n",
    "    logging.info(f\"Test error: {test_error}\")"
   ]
  },
  {
   "cell_type": "code",
   "execution_count": null,
   "id": "b678cafe-1d41-43b2-bc0b-81ea47465734",
   "metadata": {},
   "outputs": [],
   "source": []
  },
  {
   "cell_type": "code",
   "execution_count": null,
   "id": "fe7c21b4-5604-41d9-8353-165930918356",
   "metadata": {},
   "outputs": [],
   "source": []
  }
 ],
 "metadata": {
  "kernelspec": {
   "display_name": "Python 3 (ipykernel)",
   "language": "python",
   "name": "python3"
  },
  "language_info": {
   "codemirror_mode": {
    "name": "ipython",
    "version": 3
   },
   "file_extension": ".py",
   "mimetype": "text/x-python",
   "name": "python",
   "nbconvert_exporter": "python",
   "pygments_lexer": "ipython3",
   "version": "3.9.13"
  }
 },
 "nbformat": 4,
 "nbformat_minor": 5
}
